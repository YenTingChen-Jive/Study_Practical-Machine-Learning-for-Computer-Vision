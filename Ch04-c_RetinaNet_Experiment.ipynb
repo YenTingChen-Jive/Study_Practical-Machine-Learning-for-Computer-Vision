{
 "cells": [
  {
   "cell_type": "markdown",
   "id": "06d2b149",
   "metadata": {},
   "source": [
    "# **(TODO) Chapter 04-c. Experiments: RetinaNet**"
   ]
  },
  {
   "cell_type": "markdown",
   "id": "ca6f86a9",
   "metadata": {},
   "source": [
    "### Prerequisite, Download\n",
    "---\n",
    "* 以 節肢動物(Arthropods) 圖片作為分類 class"
   ]
  },
  {
   "cell_type": "code",
   "execution_count": null,
   "id": "60b72f75",
   "metadata": {},
   "outputs": [],
   "source": [
    "import os\n",
    "os.environ['KAGGLE_CONFIG_DIR']='./Utils'\n",
    "\n",
    "!${HOME}/.local/bin/kaggle datasets download mistag/arthropod-taxonomy-orders-object-detection-dataset\n",
    "\n",
    "!unzip -q *dataset.zip"
   ]
  },
  {
   "cell_type": "code",
   "execution_count": null,
   "id": "62efd873",
   "metadata": {},
   "outputs": [],
   "source": [
    "import tensorflow as tf\n",
    "import numpy as np\n",
    "import concurrent.futures\n",
    "from threading import Lock\n",
    "import json, math, random, os, pprint\n",
    "from matplotlib import pyplot as plt\n",
    "import matplotlib as mpl\n",
    "# import utils_box as box\n",
    "AUTO = tf.data.AUTOTUNE\n",
    "pp = pprint.PrettyPrinter()\n",
    "print(\"TensorFlow version\", tf.__version__)\n",
    "\n",
    "from tensorflow_models.vision import box_ops as boxutils\n",
    "\n",
    "# TODO: remove dependency on utils_box and use box_ops instead"
   ]
  }
 ],
 "metadata": {
  "kernelspec": {
   "display_name": "3.10.14",
   "language": "python",
   "name": "python3"
  },
  "language_info": {
   "codemirror_mode": {
    "name": "ipython",
    "version": 3
   },
   "file_extension": ".py",
   "mimetype": "text/x-python",
   "name": "python",
   "nbconvert_exporter": "python",
   "pygments_lexer": "ipython3",
   "version": "3.10.14"
  }
 },
 "nbformat": 4,
 "nbformat_minor": 5
}
