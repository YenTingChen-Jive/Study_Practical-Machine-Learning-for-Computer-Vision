{
 "cells": [
  {
   "cell_type": "markdown",
   "id": "a9e3bda1",
   "metadata": {},
   "source": [
    "# **Chapter 05. Create Dataset**"
   ]
  },
  {
   "cell_type": "markdown",
   "id": "e095a01f",
   "metadata": {},
   "source": [
    "##### 資料類型\n",
    "* 基本上, 任何能夠以 `4D tensor (batch × height × width × channel)` 的形式作為輸入的資料都可以應用於電腦視覺的訓練方式！"
   ]
  },
  {
   "cell_type": "markdown",
   "id": "4b001602",
   "metadata": {},
   "source": [
    "---\n",
    "##### 影像:\n",
    "* 影像解析度 與 運算／儲存／傳輸所需資源 的 trade-off, 建議 `選擇壓縮格式(例如JPEG)、較高閾值(95%+)、較低解析度(取決於任務精細程度)`\n",
    "* 通常影像會有3個channel(RGB), 但有些影像會有4個channel(RGBA), 其中A是 `alpha(透明度)`\n",
    "* 常規影像處理流程: `影像以壓縮字串的形式讀取, 轉換為 3D uint8 tensor, 再將 [0, 255] 的像素值轉換為 [0, 1] 的浮點數`\n",
    "* 現代最常用的排序是 [height, width, channel] 的順序, 稱為 channel-last 表達法, 例如 TensorFlow 就是如此 (早期則是 channel-first)"
   ]
  },
  {
   "cell_type": "markdown",
   "id": "c6d92e2a",
   "metadata": {},
   "source": [
    "##### 地理空間資料:\n",
    "* 從地圖產生的地理空間資料, 通常有可以被視為頻道的`柵格頻帶(raster band)`"
   ]
  },
  {
   "cell_type": "markdown",
   "id": "c826081f",
   "metadata": {},
   "source": [
    "### "
   ]
  }
 ],
 "metadata": {
  "language_info": {
   "name": "python"
  }
 },
 "nbformat": 4,
 "nbformat_minor": 5
}
